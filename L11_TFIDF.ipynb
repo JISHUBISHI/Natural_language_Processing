{
 "cells": [
  {
   "cell_type": "markdown",
   "metadata": {},
   "source": [
    "Document_Frequency(DF) = Number of times term t is present in all docs."
   ]
  },
  {
   "cell_type": "markdown",
   "metadata": {},
   "source": [
    "IDF = log(Total Documents / Number of documents term t is present)"
   ]
  },
  {
   "cell_type": "markdown",
   "metadata": {},
   "source": [
    "TF(t,d) = (Total numbert of time term t is present in docA / total number of tokens in docA)\n"
   ]
  },
  {
   "cell_type": "markdown",
   "metadata": {},
   "source": [
    "t = term"
   ]
  },
  {
   "cell_type": "markdown",
   "metadata": {},
   "source": [
    "d = Document"
   ]
  },
  {
   "cell_type": "markdown",
   "metadata": {},
   "source": [
    "TF-IDF =  TF(t,d) * IDF(t)"
   ]
  },
  {
   "cell_type": "code",
   "execution_count": 2,
   "metadata": {},
   "outputs": [],
   "source": [
    "from sklearn.feature_extraction.text import TfidfVectorizer\n",
    "corpus =  [\n",
    "    \"The sun sets in the west.\",\n",
    "    \"Python is a powerful programming language.\",\n",
    "    \"She enjoys reading mystery novels.\",\n",
    "    \"The cat sat on the windowsill, watching the birds.\",\n",
    "    \"A journey of a thousand miles begins with a single step.\",\n",
    "    \"He practices the piano every evening.\",\n",
    "    \"The museum exhibits ancient artifacts from different civilizations.\",\n",
    "    \"Cooking is both an art and a science.\",\n",
    "    \"They decided to go on a road trip across the country.\",\n",
    "    \"Innovation drives progress in technology and science.\"\n",
    "]\n"
   ]
  },
  {
   "cell_type": "code",
   "execution_count": 4,
   "metadata": {},
   "outputs": [
    {
     "data": {
      "text/plain": [
       "{'the': 50,\n",
       " 'sun': 48,\n",
       " 'sets': 44,\n",
       " 'in': 23,\n",
       " 'west': 56,\n",
       " 'python': 39,\n",
       " 'is': 25,\n",
       " 'powerful': 35,\n",
       " 'programming': 37,\n",
       " 'language': 27,\n",
       " 'she': 45,\n",
       " 'enjoys': 16,\n",
       " 'reading': 40,\n",
       " 'mystery': 30,\n",
       " 'novels': 31,\n",
       " 'cat': 9,\n",
       " 'sat': 42,\n",
       " 'on': 33,\n",
       " 'windowsill': 57,\n",
       " 'watching': 55,\n",
       " 'birds': 7,\n",
       " 'journey': 26,\n",
       " 'of': 32,\n",
       " 'thousand': 52,\n",
       " 'miles': 28,\n",
       " 'begins': 6,\n",
       " 'with': 58,\n",
       " 'single': 46,\n",
       " 'step': 47,\n",
       " 'he': 22,\n",
       " 'practices': 36,\n",
       " 'piano': 34,\n",
       " 'every': 18,\n",
       " 'evening': 17,\n",
       " 'museum': 29,\n",
       " 'exhibits': 19,\n",
       " 'ancient': 2,\n",
       " 'artifacts': 5,\n",
       " 'from': 20,\n",
       " 'different': 14,\n",
       " 'civilizations': 10,\n",
       " 'cooking': 11,\n",
       " 'both': 8,\n",
       " 'an': 1,\n",
       " 'art': 4,\n",
       " 'and': 3,\n",
       " 'science': 43,\n",
       " 'they': 51,\n",
       " 'decided': 13,\n",
       " 'to': 53,\n",
       " 'go': 21,\n",
       " 'road': 41,\n",
       " 'trip': 54,\n",
       " 'across': 0,\n",
       " 'country': 12,\n",
       " 'innovation': 24,\n",
       " 'drives': 15,\n",
       " 'progress': 38,\n",
       " 'technology': 49}"
      ]
     },
     "execution_count": 4,
     "metadata": {},
     "output_type": "execute_result"
    }
   ],
   "source": [
    "v = TfidfVectorizer()\n",
    "transported_text = v.fit_transform(corpus)\n",
    "v.vocabulary_"
   ]
  },
  {
   "cell_type": "code",
   "execution_count": 5,
   "metadata": {},
   "outputs": [
    {
     "name": "stdout",
     "output_type": "stream",
     "text": [
      "across 2.7047480922384253\n",
      "an 2.7047480922384253\n",
      "ancient 2.7047480922384253\n",
      "and 2.2992829841302607\n",
      "art 2.7047480922384253\n",
      "artifacts 2.7047480922384253\n",
      "begins 2.7047480922384253\n",
      "birds 2.7047480922384253\n",
      "both 2.7047480922384253\n",
      "cat 2.7047480922384253\n",
      "civilizations 2.7047480922384253\n",
      "cooking 2.7047480922384253\n",
      "country 2.7047480922384253\n",
      "decided 2.7047480922384253\n",
      "different 2.7047480922384253\n",
      "drives 2.7047480922384253\n",
      "enjoys 2.7047480922384253\n",
      "evening 2.7047480922384253\n",
      "every 2.7047480922384253\n",
      "exhibits 2.7047480922384253\n",
      "from 2.7047480922384253\n",
      "go 2.7047480922384253\n",
      "he 2.7047480922384253\n",
      "in 2.2992829841302607\n",
      "innovation 2.7047480922384253\n",
      "is 2.2992829841302607\n",
      "journey 2.7047480922384253\n",
      "language 2.7047480922384253\n",
      "miles 2.7047480922384253\n",
      "museum 2.7047480922384253\n",
      "mystery 2.7047480922384253\n",
      "novels 2.7047480922384253\n",
      "of 2.7047480922384253\n",
      "on 2.2992829841302607\n",
      "piano 2.7047480922384253\n",
      "powerful 2.7047480922384253\n",
      "practices 2.7047480922384253\n",
      "programming 2.7047480922384253\n",
      "progress 2.7047480922384253\n",
      "python 2.7047480922384253\n",
      "reading 2.7047480922384253\n",
      "road 2.7047480922384253\n",
      "sat 2.7047480922384253\n",
      "science 2.2992829841302607\n",
      "sets 2.7047480922384253\n",
      "she 2.7047480922384253\n",
      "single 2.7047480922384253\n",
      "step 2.7047480922384253\n",
      "sun 2.7047480922384253\n",
      "technology 2.7047480922384253\n",
      "the 1.6061358035703155\n",
      "they 2.7047480922384253\n",
      "thousand 2.7047480922384253\n",
      "to 2.7047480922384253\n",
      "trip 2.7047480922384253\n",
      "watching 2.7047480922384253\n",
      "west 2.7047480922384253\n",
      "windowsill 2.7047480922384253\n",
      "with 2.7047480922384253\n"
     ]
    }
   ],
   "source": [
    "all_features_names = v.get_feature_names_out()\n",
    "\n",
    "for word in all_features_names:\n",
    "    index = v.vocabulary_.get(word)\n",
    "    print(f\"{word} {v.idf_[index]}\")"
   ]
  },
  {
   "cell_type": "code",
   "execution_count": 6,
   "metadata": {},
   "outputs": [
    {
     "data": {
      "text/plain": [
       "array([[0.        , 0.        , 0.        , 0.        , 0.        ,\n",
       "        0.        , 0.        , 0.        , 0.        , 0.        ,\n",
       "        0.        , 0.        , 0.        , 0.        , 0.        ,\n",
       "        0.        , 0.        , 0.        , 0.        , 0.        ,\n",
       "        0.        , 0.        , 0.        , 0.37520939, 0.        ,\n",
       "        0.        , 0.        , 0.        , 0.        , 0.        ,\n",
       "        0.        , 0.        , 0.        , 0.        , 0.        ,\n",
       "        0.        , 0.        , 0.        , 0.        , 0.        ,\n",
       "        0.        , 0.        , 0.        , 0.        , 0.44137538,\n",
       "        0.        , 0.        , 0.        , 0.44137538, 0.        ,\n",
       "        0.5241958 , 0.        , 0.        , 0.        , 0.        ,\n",
       "        0.        , 0.44137538, 0.        , 0.        ],\n",
       "       [0.        , 0.        , 0.        , 0.        , 0.        ,\n",
       "        0.        , 0.        , 0.        , 0.        , 0.        ,\n",
       "        0.        , 0.        , 0.        , 0.        , 0.        ,\n",
       "        0.        , 0.        , 0.        , 0.        , 0.        ,\n",
       "        0.        , 0.        , 0.        , 0.        , 0.        ,\n",
       "        0.39117625, 0.        , 0.46015789, 0.        , 0.        ,\n",
       "        0.        , 0.        , 0.        , 0.        , 0.        ,\n",
       "        0.46015789, 0.        , 0.46015789, 0.        , 0.46015789,\n",
       "        0.        , 0.        , 0.        , 0.        , 0.        ,\n",
       "        0.        , 0.        , 0.        , 0.        , 0.        ,\n",
       "        0.        , 0.        , 0.        , 0.        , 0.        ,\n",
       "        0.        , 0.        , 0.        , 0.        ]])"
      ]
     },
     "execution_count": 6,
     "metadata": {},
     "output_type": "execute_result"
    }
   ],
   "source": [
    "transported_text.toarray()[:2]"
   ]
  },
  {
   "cell_type": "code",
   "execution_count": 7,
   "metadata": {},
   "outputs": [],
   "source": [
    "import pandas as pd"
   ]
  },
  {
   "cell_type": "code",
   "execution_count": 8,
   "metadata": {},
   "outputs": [],
   "source": [
    "import numpy as np"
   ]
  },
  {
   "cell_type": "code",
   "execution_count": 9,
   "metadata": {},
   "outputs": [],
   "source": [
    "df = pd.read_csv(\"Ecommerce_data.csv\")"
   ]
  },
  {
   "cell_type": "code",
   "execution_count": 10,
   "metadata": {},
   "outputs": [
    {
     "data": {
      "text/html": [
       "<div>\n",
       "<style scoped>\n",
       "    .dataframe tbody tr th:only-of-type {\n",
       "        vertical-align: middle;\n",
       "    }\n",
       "\n",
       "    .dataframe tbody tr th {\n",
       "        vertical-align: top;\n",
       "    }\n",
       "\n",
       "    .dataframe thead th {\n",
       "        text-align: right;\n",
       "    }\n",
       "</style>\n",
       "<table border=\"1\" class=\"dataframe\">\n",
       "  <thead>\n",
       "    <tr style=\"text-align: right;\">\n",
       "      <th></th>\n",
       "      <th>Text</th>\n",
       "      <th>label</th>\n",
       "    </tr>\n",
       "  </thead>\n",
       "  <tbody>\n",
       "    <tr>\n",
       "      <th>0</th>\n",
       "      <td>Urban Ladder Eisner Low Back Study-Office Comp...</td>\n",
       "      <td>Household</td>\n",
       "    </tr>\n",
       "    <tr>\n",
       "      <th>1</th>\n",
       "      <td>Contrast living Wooden Decorative Box,Painted ...</td>\n",
       "      <td>Household</td>\n",
       "    </tr>\n",
       "    <tr>\n",
       "      <th>2</th>\n",
       "      <td>IO Crest SY-PCI40010 PCI RAID Host Controller ...</td>\n",
       "      <td>Electronics</td>\n",
       "    </tr>\n",
       "    <tr>\n",
       "      <th>3</th>\n",
       "      <td>ISAKAA Baby Socks from Just Born to 8 Years- P...</td>\n",
       "      <td>Clothing &amp; Accessories</td>\n",
       "    </tr>\n",
       "    <tr>\n",
       "      <th>4</th>\n",
       "      <td>Indira Designer Women's Art Mysore Silk Saree ...</td>\n",
       "      <td>Clothing &amp; Accessories</td>\n",
       "    </tr>\n",
       "  </tbody>\n",
       "</table>\n",
       "</div>"
      ],
      "text/plain": [
       "                                                Text                   label\n",
       "0  Urban Ladder Eisner Low Back Study-Office Comp...               Household\n",
       "1  Contrast living Wooden Decorative Box,Painted ...               Household\n",
       "2  IO Crest SY-PCI40010 PCI RAID Host Controller ...             Electronics\n",
       "3  ISAKAA Baby Socks from Just Born to 8 Years- P...  Clothing & Accessories\n",
       "4  Indira Designer Women's Art Mysore Silk Saree ...  Clothing & Accessories"
      ]
     },
     "execution_count": 10,
     "metadata": {},
     "output_type": "execute_result"
    }
   ],
   "source": [
    "df.head()"
   ]
  },
  {
   "cell_type": "code",
   "execution_count": 11,
   "metadata": {},
   "outputs": [
    {
     "data": {
      "text/plain": [
       "label\n",
       "Household                 6000\n",
       "Electronics               6000\n",
       "Clothing & Accessories    6000\n",
       "Books                     6000\n",
       "Name: count, dtype: int64"
      ]
     },
     "execution_count": 11,
     "metadata": {},
     "output_type": "execute_result"
    }
   ],
   "source": [
    "df.label.value_counts()"
   ]
  },
  {
   "cell_type": "code",
   "execution_count": 12,
   "metadata": {},
   "outputs": [],
   "source": [
    "df['label_num'] = df.label.map({\n",
    "    'Household' : 0\n",
    "    , 'Books' : 1\n",
    "    , 'Clothing & Accessories' : 2\n",
    "    , 'Electronics' : 3\n",
    "\n",
    "\n",
    "})"
   ]
  },
  {
   "cell_type": "code",
   "execution_count": 13,
   "metadata": {},
   "outputs": [
    {
     "data": {
      "text/html": [
       "<div>\n",
       "<style scoped>\n",
       "    .dataframe tbody tr th:only-of-type {\n",
       "        vertical-align: middle;\n",
       "    }\n",
       "\n",
       "    .dataframe tbody tr th {\n",
       "        vertical-align: top;\n",
       "    }\n",
       "\n",
       "    .dataframe thead th {\n",
       "        text-align: right;\n",
       "    }\n",
       "</style>\n",
       "<table border=\"1\" class=\"dataframe\">\n",
       "  <thead>\n",
       "    <tr style=\"text-align: right;\">\n",
       "      <th></th>\n",
       "      <th>Text</th>\n",
       "      <th>label</th>\n",
       "      <th>label_num</th>\n",
       "    </tr>\n",
       "  </thead>\n",
       "  <tbody>\n",
       "    <tr>\n",
       "      <th>0</th>\n",
       "      <td>Urban Ladder Eisner Low Back Study-Office Comp...</td>\n",
       "      <td>Household</td>\n",
       "      <td>0</td>\n",
       "    </tr>\n",
       "    <tr>\n",
       "      <th>1</th>\n",
       "      <td>Contrast living Wooden Decorative Box,Painted ...</td>\n",
       "      <td>Household</td>\n",
       "      <td>0</td>\n",
       "    </tr>\n",
       "    <tr>\n",
       "      <th>2</th>\n",
       "      <td>IO Crest SY-PCI40010 PCI RAID Host Controller ...</td>\n",
       "      <td>Electronics</td>\n",
       "      <td>3</td>\n",
       "    </tr>\n",
       "    <tr>\n",
       "      <th>3</th>\n",
       "      <td>ISAKAA Baby Socks from Just Born to 8 Years- P...</td>\n",
       "      <td>Clothing &amp; Accessories</td>\n",
       "      <td>2</td>\n",
       "    </tr>\n",
       "    <tr>\n",
       "      <th>4</th>\n",
       "      <td>Indira Designer Women's Art Mysore Silk Saree ...</td>\n",
       "      <td>Clothing &amp; Accessories</td>\n",
       "      <td>2</td>\n",
       "    </tr>\n",
       "  </tbody>\n",
       "</table>\n",
       "</div>"
      ],
      "text/plain": [
       "                                                Text  ... label_num\n",
       "0  Urban Ladder Eisner Low Back Study-Office Comp...  ...         0\n",
       "1  Contrast living Wooden Decorative Box,Painted ...  ...         0\n",
       "2  IO Crest SY-PCI40010 PCI RAID Host Controller ...  ...         3\n",
       "3  ISAKAA Baby Socks from Just Born to 8 Years- P...  ...         2\n",
       "4  Indira Designer Women's Art Mysore Silk Saree ...  ...         2\n",
       "\n",
       "[5 rows x 3 columns]"
      ]
     },
     "execution_count": 13,
     "metadata": {},
     "output_type": "execute_result"
    }
   ],
   "source": [
    "df.head()"
   ]
  },
  {
   "cell_type": "code",
   "execution_count": 15,
   "metadata": {},
   "outputs": [],
   "source": [
    "from sklearn.model_selection import train_test_split\n",
    "X_train,X_test,Y_train,Y_test = train_test_split(\n",
    "    df.Text,\n",
    "    df.label_num,\n",
    "    test_size = 0.2,\n",
    "    random_state = 2022,\n",
    "    stratify = df.label_num\n",
    ")"
   ]
  },
  {
   "cell_type": "code",
   "execution_count": 16,
   "metadata": {},
   "outputs": [
    {
     "name": "stdout",
     "output_type": "stream",
     "text": [
      "Shape of X_train:  (19200,)\n",
      "Shape of X_test:  (4800,)\n"
     ]
    }
   ],
   "source": [
    "print(\"Shape of X_train: \",X_train.shape)\n",
    "print(\"Shape of X_test: \",X_test.shape)"
   ]
  },
  {
   "cell_type": "code",
   "execution_count": 17,
   "metadata": {},
   "outputs": [
    {
     "data": {
      "text/plain": [
       "label_num\n",
       "0    4800\n",
       "2    4800\n",
       "3    4800\n",
       "1    4800\n",
       "Name: count, dtype: int64"
      ]
     },
     "execution_count": 17,
     "metadata": {},
     "output_type": "execute_result"
    }
   ],
   "source": [
    "Y_train.value_counts()"
   ]
  },
  {
   "cell_type": "code",
   "execution_count": 18,
   "metadata": {},
   "outputs": [
    {
     "name": "stdout",
     "output_type": "stream",
     "text": [
      "              precision    recall  f1-score   support\n",
      "\n",
      "           0       0.95      0.95      0.95      1200\n",
      "           1       0.97      0.95      0.96      1200\n",
      "           2       0.97      0.98      0.98      1200\n",
      "           3       0.97      0.98      0.97      1200\n",
      "\n",
      "    accuracy                           0.97      4800\n",
      "   macro avg       0.97      0.97      0.97      4800\n",
      "weighted avg       0.97      0.97      0.97      4800\n",
      "\n"
     ]
    }
   ],
   "source": [
    "from sklearn.neighbors import KNeighborsClassifier\n",
    "from sklearn.pipeline import Pipeline\n",
    "from sklearn.metrics import classification_report\n",
    "clf = Pipeline([\n",
    "    ('vectorizer_tfidf',TfidfVectorizer(ngram_range = (1,2))),\n",
    "    ('KNN',KNeighborsClassifier())\n",
    "])\n",
    "clf.fit(X_train,Y_train)\n",
    "Y_pred = clf.predict(X_test)\n",
    "print(classification_report(Y_test,Y_pred))"
   ]
  },
  {
   "cell_type": "code",
   "execution_count": null,
   "metadata": {},
   "outputs": [
    {
     "name": "stdout",
     "output_type": "stream",
     "text": [
      "              precision    recall  f1-score   support\n",
      "\n",
      "           0       0.93      0.97      0.95      1200\n",
      "           1       0.98      0.93      0.96      1200\n",
      "           2       0.98      0.98      0.98      1200\n",
      "           3       0.96      0.98      0.97      1200\n",
      "\n",
      "    accuracy                           0.97      4800\n",
      "   macro avg       0.97      0.97      0.97      4800\n",
      "weighted avg       0.97      0.97      0.97      4800\n",
      "\n"
     ]
    }
   ],
   "source": [
    "from sklearn.naive_bayes import MultinomialNB\n",
    "from sklearn.pipeline import Pipeline\n",
    "from sklearn.metrics import classification_report\n",
    "clf = Pipeline([\n",
    "    ('vectorizer_tfidf',TfidfVectorizer(ngram_range = (1,2))),\n",
    "    ('Multi NB',MultinomialNB())\n",
    "])\n",
    "clf.fit(X_train,Y_train)\n",
    "Y_pred = clf.predict(X_test)\n",
    "print(classification_report(Y_test,Y_pred))"
   ]
  },
  {
   "cell_type": "code",
   "execution_count": 20,
   "metadata": {},
   "outputs": [
    {
     "name": "stdout",
     "output_type": "stream",
     "text": [
      "              precision    recall  f1-score   support\n",
      "\n",
      "           0       0.97      0.95      0.96      1200\n",
      "           1       0.96      0.98      0.97      1200\n",
      "           2       0.97      0.98      0.98      1200\n",
      "           3       0.98      0.96      0.97      1200\n",
      "\n",
      "    accuracy                           0.97      4800\n",
      "   macro avg       0.97      0.97      0.97      4800\n",
      "weighted avg       0.97      0.97      0.97      4800\n",
      "\n"
     ]
    }
   ],
   "source": [
    "from sklearn.ensemble import RandomForestClassifier\n",
    "from sklearn.pipeline import Pipeline\n",
    "from sklearn.metrics import classification_report\n",
    "clf = Pipeline([\n",
    "    ('vectorizer_tfidf',TfidfVectorizer(ngram_range = (1,2))),\n",
    "    ('Random Forest',RandomForestClassifier())\n",
    "])\n",
    "clf.fit(X_train,Y_train)\n",
    "Y_pred = clf.predict(X_test)\n",
    "print(classification_report(Y_test,Y_pred))"
   ]
  },
  {
   "cell_type": "code",
   "execution_count": 21,
   "metadata": {},
   "outputs": [],
   "source": [
    "import spacy\n",
    "nlp = spacy.load(\"en_core_web_sm\")\n",
    "\n",
    "\n",
    "def preprocess(text):\n",
    "    doc= nlp(text)\n",
    "    filtered_tokens = []\n",
    "    for token in doc:\n",
    "        if token.is_stop or token.is_punct:\n",
    "            continue\n",
    "        filtered_tokens.append(token.lemma_)\n",
    "\n",
    "    return\" \".join(filtered_tokens) "
   ]
  },
  {
   "cell_type": "code",
   "execution_count": 22,
   "metadata": {},
   "outputs": [],
   "source": [
    "df['preprocessed_txt'] = df['Text'].apply(preprocess)"
   ]
  },
  {
   "cell_type": "code",
   "execution_count": 23,
   "metadata": {},
   "outputs": [
    {
     "data": {
      "text/html": [
       "<div>\n",
       "<style scoped>\n",
       "    .dataframe tbody tr th:only-of-type {\n",
       "        vertical-align: middle;\n",
       "    }\n",
       "\n",
       "    .dataframe tbody tr th {\n",
       "        vertical-align: top;\n",
       "    }\n",
       "\n",
       "    .dataframe thead th {\n",
       "        text-align: right;\n",
       "    }\n",
       "</style>\n",
       "<table border=\"1\" class=\"dataframe\">\n",
       "  <thead>\n",
       "    <tr style=\"text-align: right;\">\n",
       "      <th></th>\n",
       "      <th>Text</th>\n",
       "      <th>label</th>\n",
       "      <th>label_num</th>\n",
       "      <th>preprocessed_txt</th>\n",
       "    </tr>\n",
       "  </thead>\n",
       "  <tbody>\n",
       "    <tr>\n",
       "      <th>0</th>\n",
       "      <td>Urban Ladder Eisner Low Back Study-Office Comp...</td>\n",
       "      <td>Household</td>\n",
       "      <td>0</td>\n",
       "      <td>Urban Ladder Eisner Low Study Office Computer ...</td>\n",
       "    </tr>\n",
       "    <tr>\n",
       "      <th>1</th>\n",
       "      <td>Contrast living Wooden Decorative Box,Painted ...</td>\n",
       "      <td>Household</td>\n",
       "      <td>0</td>\n",
       "      <td>contrast live Wooden Decorative Box Painted Bo...</td>\n",
       "    </tr>\n",
       "    <tr>\n",
       "      <th>2</th>\n",
       "      <td>IO Crest SY-PCI40010 PCI RAID Host Controller ...</td>\n",
       "      <td>Electronics</td>\n",
       "      <td>3</td>\n",
       "      <td>IO Crest SY PCI40010 PCI RAID Host Controller ...</td>\n",
       "    </tr>\n",
       "    <tr>\n",
       "      <th>3</th>\n",
       "      <td>ISAKAA Baby Socks from Just Born to 8 Years- P...</td>\n",
       "      <td>Clothing &amp; Accessories</td>\n",
       "      <td>2</td>\n",
       "      <td>ISAKAA Baby Socks bear 8 Years- Pack 4 6 8 12 ...</td>\n",
       "    </tr>\n",
       "    <tr>\n",
       "      <th>4</th>\n",
       "      <td>Indira Designer Women's Art Mysore Silk Saree ...</td>\n",
       "      <td>Clothing &amp; Accessories</td>\n",
       "      <td>2</td>\n",
       "      <td>Indira Designer woman Art Mysore Silk Saree Bl...</td>\n",
       "    </tr>\n",
       "  </tbody>\n",
       "</table>\n",
       "</div>"
      ],
      "text/plain": [
       "                                                Text  ...                                   preprocessed_txt\n",
       "0  Urban Ladder Eisner Low Back Study-Office Comp...  ...  Urban Ladder Eisner Low Study Office Computer ...\n",
       "1  Contrast living Wooden Decorative Box,Painted ...  ...  contrast live Wooden Decorative Box Painted Bo...\n",
       "2  IO Crest SY-PCI40010 PCI RAID Host Controller ...  ...  IO Crest SY PCI40010 PCI RAID Host Controller ...\n",
       "3  ISAKAA Baby Socks from Just Born to 8 Years- P...  ...  ISAKAA Baby Socks bear 8 Years- Pack 4 6 8 12 ...\n",
       "4  Indira Designer Women's Art Mysore Silk Saree ...  ...  Indira Designer woman Art Mysore Silk Saree Bl...\n",
       "\n",
       "[5 rows x 4 columns]"
      ]
     },
     "execution_count": 23,
     "metadata": {},
     "output_type": "execute_result"
    }
   ],
   "source": [
    "df.head()"
   ]
  },
  {
   "cell_type": "code",
   "execution_count": 25,
   "metadata": {},
   "outputs": [],
   "source": [
    "from sklearn.model_selection import train_test_split\n",
    "X_train,X_test,Y_train,Y_test = train_test_split(\n",
    "    df.preprocessed_txt,\n",
    "    df.label_num,\n",
    "    test_size = 0.2,\n",
    "    random_state = 2022,\n",
    "    stratify = df.label_num\n",
    ")"
   ]
  },
  {
   "cell_type": "code",
   "execution_count": 26,
   "metadata": {},
   "outputs": [
    {
     "name": "stdout",
     "output_type": "stream",
     "text": [
      "              precision    recall  f1-score   support\n",
      "\n",
      "           0       0.97      0.96      0.97      1200\n",
      "           1       0.97      0.98      0.98      1200\n",
      "           2       0.98      0.98      0.98      1200\n",
      "           3       0.98      0.97      0.97      1200\n",
      "\n",
      "    accuracy                           0.98      4800\n",
      "   macro avg       0.98      0.98      0.98      4800\n",
      "weighted avg       0.98      0.98      0.98      4800\n",
      "\n"
     ]
    }
   ],
   "source": [
    "clf = Pipeline([\n",
    "    ('vectorizer_tfidf',TfidfVectorizer(ngram_range = (1,2))),\n",
    "    ('Random Forest',RandomForestClassifier())\n",
    "])\n",
    "clf.fit(X_train,Y_train)\n",
    "Y_pred = clf.predict(X_test)\n",
    "print(classification_report(Y_test,Y_pred))"
   ]
  },
  {
   "cell_type": "code",
   "execution_count": null,
   "metadata": {},
   "outputs": [],
   "source": []
  }
 ],
 "metadata": {
  "kernelspec": {
   "display_name": "Python 3",
   "language": "python",
   "name": "python3"
  },
  "language_info": {
   "codemirror_mode": {
    "name": "ipython",
    "version": 3
   },
   "file_extension": ".py",
   "mimetype": "text/x-python",
   "name": "python",
   "nbconvert_exporter": "python",
   "pygments_lexer": "ipython3",
   "version": "3.10.0"
  }
 },
 "nbformat": 4,
 "nbformat_minor": 2
}
