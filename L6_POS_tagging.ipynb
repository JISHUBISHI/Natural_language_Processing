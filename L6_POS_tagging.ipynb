{
 "cells": [
  {
   "cell_type": "code",
   "execution_count": 6,
   "metadata": {},
   "outputs": [],
   "source": [
    "import spacy"
   ]
  },
  {
   "cell_type": "code",
   "execution_count": 7,
   "metadata": {},
   "outputs": [],
   "source": [
    "nlp = spacy.load(\"en_core_web_sm\")"
   ]
  },
  {
   "cell_type": "code",
   "execution_count": 8,
   "metadata": {},
   "outputs": [],
   "source": [
    "doc = nlp(\"Hi I am Agnik Bishi A Passinate AI Engineer At Google Sanfransisco \")"
   ]
  },
  {
   "cell_type": "code",
   "execution_count": 13,
   "metadata": {},
   "outputs": [
    {
     "name": "stdout",
     "output_type": "stream",
     "text": [
      "Hi | INTJ | interjection\n",
      "I | PRON | pronoun\n",
      "am | AUX | auxiliary\n",
      "Agnik | PROPN | proper noun\n",
      "Bishi | PROPN | proper noun\n",
      "A | DET | determiner\n",
      "Passinate | PROPN | proper noun\n",
      "AI | PROPN | proper noun\n",
      "Engineer | NOUN | noun\n",
      "At | ADP | adposition\n",
      "Google | PROPN | proper noun\n",
      "Sanfransisco | PROPN | proper noun\n"
     ]
    }
   ],
   "source": [
    "for token in doc:\n",
    "    print(token,\"|\",token.pos_,\"|\",spacy.explain(token.pos_))"
   ]
  },
  {
   "cell_type": "code",
   "execution_count": 14,
   "metadata": {},
   "outputs": [],
   "source": [
    "doc = nlp(\"Hey What Are You Doing?\")"
   ]
  },
  {
   "cell_type": "code",
   "execution_count": 18,
   "metadata": {},
   "outputs": [
    {
     "name": "stdout",
     "output_type": "stream",
     "text": [
      "Hey | INTJ | interjection UH | interjection\n",
      "What | PRON | pronoun WP | wh-pronoun, personal\n",
      "Are | AUX | auxiliary VBP | verb, non-3rd person singular present\n",
      "You | PRON | pronoun PRP | pronoun, personal\n",
      "Doing | VERB | verb VBG | verb, gerund or present participle\n",
      "? | PUNCT | punctuation . | punctuation mark, sentence closer\n"
     ]
    }
   ],
   "source": [
    "for token in doc:\n",
    "    print(token,\"|\",token.pos_,\"|\",spacy.explain(token.pos_),token.tag_,\"|\",spacy.explain(token.tag_))"
   ]
  },
  {
   "cell_type": "code",
   "execution_count": 19,
   "metadata": {},
   "outputs": [],
   "source": [
    "explain_text = '''This article is about the former chairman of Tata Sons. For the philanthropist and grandfather of Tata, see Ratanji Tata. For the father of J. R. D. Tata, see Ratanji Dadabhoy Tata.\n",
    "Ratan Tata\n",
    "\n",
    "Tata in 2013\n",
    "Born\t28 December 1937\n",
    "Bombay, Bombay Province, British India\n",
    "Died\t9 October 2024 (aged 86)\n",
    "Mumbai, Maharashtra, India\n",
    "Alma mater\tCornell University (BArch), Harvard Business School (Advanced Management Program)[1]\n",
    "Occupations\t\n",
    "IndustrialistPhilanthropist\n",
    "Title\tChairman Emeritus, Tata Sons and Tata Group[2]\n",
    "Term\t\n",
    "1991–2012\n",
    "2016–2017\n",
    "Predecessor\tJ. R. D. Tata\n",
    "Successor\tNatarajan Chandrasekaran (2017–present)\n",
    "Parents\t\n",
    "Naval Tata (father)\n",
    "Sooni Commissariat (mother)\n",
    "Relatives\tTata family\n",
    "Awards\t\n",
    "Order of Australia (2023)\n",
    "Assam Baibhav (2021)\n",
    "Honorary Knight Grand Cross of the Order of the British Empire (2014)\n",
    "Padma Vibhushan (2008)\n",
    "Maharashtra Bhushan (2006)\n",
    "Padma Bhushan (2000)\n",
    "Ratan Naval Tata[a] (28 December 1937 - 9 October 2024) was an Indian industrialist and philanthropist. He served as the chairman of Tata Group and Tata Sons from 1991 to 2012 and he held the position of interim chairm\n",
    "\n",
    "Ratan Tata was the son of Naval Tata, who was adopted by Ratanji Tata, son of Jamshedji Tata, the founder of the Tata Group. He graduated from Cornell University College of Architecture with a bachelor's degree in architecture.[3] He had also attended the Harvard Business School (HBS) Advanced Management program in 1975.[1] He joined the Tata Group in 1962,[4] starting on the shop floor of Tata Steel. He later succeeded J. R. D. Tata as chairman of Tata Sons upon the latter's retirement in 1991. During his tenure, the Tata Group acquired Tetley, Jaguar Land Rover, and Corus, in an attempt to turn Tata from a largely India-centric group into a global business.\n",
    "\n",
    "Throughout his life, Tata invested in over 40 start-ups, primarily in a personal capacity, with additional investments through his firm, RNT Capital Advisors.[5][6][7]'''"
   ]
  },
  {
   "cell_type": "code",
   "execution_count": 28,
   "metadata": {},
   "outputs": [],
   "source": [
    "doc = nlp(explain_text)\n",
    "filtered_tokens = []"
   ]
  },
  {
   "cell_type": "code",
   "execution_count": 29,
   "metadata": {},
   "outputs": [],
   "source": [
    "for token in doc:\n",
    "    if token.pos_ not in[\"SPACE\",\"PUNCT\"]:\n",
    "        filtered_tokens.append(token)"
   ]
  },
  {
   "cell_type": "code",
   "execution_count": 31,
   "metadata": {},
   "outputs": [
    {
     "data": {
      "text/plain": [
       "[This,\n",
       " article,\n",
       " is,\n",
       " about,\n",
       " the,\n",
       " former,\n",
       " chairman,\n",
       " of,\n",
       " Tata,\n",
       " Sons,\n",
       " For,\n",
       " the,\n",
       " philanthropist,\n",
       " and,\n",
       " grandfather,\n",
       " of,\n",
       " Tata,\n",
       " see,\n",
       " Ratanji,\n",
       " Tata]"
      ]
     },
     "execution_count": 31,
     "metadata": {},
     "output_type": "execute_result"
    }
   ],
   "source": [
    "filtered_tokens[:20]"
   ]
  },
  {
   "cell_type": "code",
   "execution_count": 32,
   "metadata": {},
   "outputs": [],
   "source": [
    "count = doc.count_by(spacy.attrs.POS)"
   ]
  },
  {
   "cell_type": "code",
   "execution_count": 33,
   "metadata": {},
   "outputs": [
    {
     "data": {
      "text/plain": [
       "{90: 22,\n",
       " 92: 41,\n",
       " 87: 5,\n",
       " 85: 40,\n",
       " 84: 7,\n",
       " 96: 126,\n",
       " 97: 64,\n",
       " 89: 6,\n",
       " 100: 16,\n",
       " 103: 36,\n",
       " 93: 25,\n",
       " 99: 1,\n",
       " 95: 10,\n",
       " 94: 3,\n",
       " 86: 4,\n",
       " 98: 1}"
      ]
     },
     "execution_count": 33,
     "metadata": {},
     "output_type": "execute_result"
    }
   ],
   "source": [
    "count"
   ]
  },
  {
   "cell_type": "code",
   "execution_count": 36,
   "metadata": {},
   "outputs": [
    {
     "name": "stdout",
     "output_type": "stream",
     "text": [
      "DET | 22\n",
      "NOUN | 41\n",
      "AUX | 5\n",
      "ADP | 40\n",
      "ADJ | 7\n",
      "PROPN | 126\n",
      "PUNCT | 64\n",
      "CCONJ | 6\n",
      "VERB | 16\n",
      "SPACE | 36\n",
      "NUM | 25\n",
      "SYM | 1\n",
      "PRON | 10\n",
      "PART | 3\n",
      "ADV | 4\n",
      "SCONJ | 1\n"
     ]
    }
   ],
   "source": [
    "for k,v in count.items():\n",
    "    print(doc.vocab[k].text,\"|\",v)"
   ]
  },
  {
   "cell_type": "code",
   "execution_count": null,
   "metadata": {},
   "outputs": [],
   "source": []
  }
 ],
 "metadata": {
  "kernelspec": {
   "display_name": "Python 3",
   "language": "python",
   "name": "python3"
  },
  "language_info": {
   "codemirror_mode": {
    "name": "ipython",
    "version": 3
   },
   "file_extension": ".py",
   "mimetype": "text/x-python",
   "name": "python",
   "nbconvert_exporter": "python",
   "pygments_lexer": "ipython3",
   "version": "3.10.0"
  }
 },
 "nbformat": 4,
 "nbformat_minor": 2
}
